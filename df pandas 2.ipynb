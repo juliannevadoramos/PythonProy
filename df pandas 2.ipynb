{
 "cells": [
  {
   "cell_type": "code",
   "execution_count": null,
   "id": "11b9c126-2c1c-4a0f-8b4c-a54b28abde70",
   "metadata": {},
   "outputs": [],
   "source": [
    "import pandas as pd\n",
    "\n",
    "xls = pd.ExcelFile('imdb.xlsx')\n",
    "df = xls.parse('imdb')\n",
    "df_directors = xls.parse('directors')\n",
    "df_countries = xls.parse('countries')\n"
   ]
  },
  {
   "cell_type": "code",
   "execution_count": null,
   "id": "dbc9de92-5758-4afe-895d-0fbba82283f8",
   "metadata": {},
   "outputs": [],
   "source": [
    "df = pd.merge(left=df,right=df_countries,how='inner',left_on='country_id',right_on='id')\n",
    "df = pd.merge(left=df,right=df_directors,how='inner',left_on='director_id',right_on='id')\n",
    "\n",
    "df.shape"
   ]
  },
  {
   "cell_type": "code",
   "execution_count": null,
   "id": "536068ed-2e9b-4ef5-93ec-13aa03f2deac",
   "metadata": {},
   "outputs": [],
   "source": [
    "first10 = df[0:10]['movie_title']\n",
    "print(first10)"
   ]
  },
  {
   "cell_type": "code",
   "execution_count": null,
   "id": "6e012c01-b6dc-43ce-96b3-a05409eab7e7",
   "metadata": {},
   "outputs": [],
   "source": [
    "df['movie_title'] = df['movie_title'].str.replace('Ê','')\n",
    "df.head(10)"
   ]
  },
  {
   "cell_type": "code",
   "execution_count": null,
   "id": "fcb99050-c0d9-4ee6-9dbe-020c9c695e3d",
   "metadata": {},
   "outputs": [],
   "source": [
    "directors = df['director_name'].value_counts()\n",
    "directors.head()\n",
    "director_with_most = directors[0:1]\n",
    "director_with_most.head()"
   ]
  },
  {
   "cell_type": "code",
   "execution_count": null,
   "id": "16193833-a1b9-4988-bcca-44faf9c313c3",
   "metadata": {},
   "outputs": [],
   "source": [
    "esCN = df['director_name'] == 'Christopher Nolan'\n",
    "\n",
    "all_movies_ratings = df[esCN][['movie_title', 'imdb_score']]\n",
    "all_movies_ratings"
   ]
  },
  {
   "cell_type": "code",
   "execution_count": null,
   "id": "a5babd3d-853d-42a1-82be-686477df95a1",
   "metadata": {},
   "outputs": [],
   "source": [
    "import random\n",
    "random.seed(0)\n",
    "cond_pelis_grat = df['imdb_score'] > 8.3\n",
    "pelis_grat = df[cond_pelis_grat]\n",
    "\n",
    "rand_int = random.randint(0, len(pelis_grat)-1)\n",
    "rand_goodmovie = pelis_grat[rand_int:rand_int +1]\n",
    "type(rand_goodmovie)\n",
    "rand_goodmovie\n",
    "random_title = rand_goodmovie['movie_title']\n",
    "random_title\n",
    "random_imdb_score = rand_goodmovie['imdb_score']\n",
    "random_imdb_score"
   ]
  },
  {
   "cell_type": "code",
   "execution_count": null,
   "id": "2a49ba35-f777-46dd-994e-eece298fdfdf",
   "metadata": {},
   "outputs": [],
   "source": []
  },
  {
   "cell_type": "code",
   "execution_count": null,
   "id": "db036280-2951-4c01-9871-226cd18ec719",
   "metadata": {},
   "outputs": [],
   "source": []
  },
  {
   "cell_type": "code",
   "execution_count": null,
   "id": "27cffeac-638f-4e2a-a567-f5e947405935",
   "metadata": {},
   "outputs": [],
   "source": []
  },
  {
   "cell_type": "code",
   "execution_count": null,
   "id": "a69701b2-e29d-4f19-9417-71b178cfb060",
   "metadata": {},
   "outputs": [],
   "source": []
  }
 ],
 "metadata": {
  "kernelspec": {
   "display_name": "Python 3 (ipykernel)",
   "language": "python",
   "name": "python3"
  },
  "language_info": {
   "codemirror_mode": {
    "name": "ipython",
    "version": 3
   },
   "file_extension": ".py",
   "mimetype": "text/x-python",
   "name": "python",
   "nbconvert_exporter": "python",
   "pygments_lexer": "ipython3",
   "version": "3.12.7"
  }
 },
 "nbformat": 4,
 "nbformat_minor": 5
}
